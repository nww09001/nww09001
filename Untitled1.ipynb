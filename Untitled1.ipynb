{
  "nbformat": 4,
  "nbformat_minor": 0,
  "metadata": {
    "colab": {
      "name": "Untitled1.ipynb",
      "provenance": [],
      "collapsed_sections": [],
      "authorship_tag": "ABX9TyOlYkb9NxAK7rfQ7+VcVOZr",
      "include_colab_link": true
    },
    "kernelspec": {
      "name": "python3",
      "display_name": "Python 3"
    },
    "language_info": {
      "name": "python"
    }
  },
  "cells": [
    {
      "cell_type": "markdown",
      "metadata": {
        "id": "view-in-github",
        "colab_type": "text"
      },
      "source": [
        "<a href=\"https://colab.research.google.com/github/nww09001/nww09001/blob/main/Untitled1.ipynb\" target=\"_parent\"><img src=\"https://colab.research.google.com/assets/colab-badge.svg\" alt=\"Open In Colab\"/></a>"
      ]
    },
    {
      "cell_type": "code",
      "metadata": {
        "colab": {
          "base_uri": "https://localhost:8080/"
        },
        "id": "asfolTfoIj-v",
        "outputId": "c11b38f9-636c-4e49-8602-c416f55e465d"
      },
      "source": [
        "!pip install yfinance"
      ],
      "execution_count": 1,
      "outputs": [
        {
          "output_type": "stream",
          "text": [
            "Collecting yfinance\n",
            "  Downloading https://files.pythonhosted.org/packages/a7/ee/315752b9ef281ba83c62aa7ec2e2074f85223da6e7e74efb4d3e11c0f510/yfinance-0.1.59.tar.gz\n",
            "Requirement already satisfied: pandas>=0.24 in /usr/local/lib/python3.7/dist-packages (from yfinance) (1.1.5)\n",
            "Requirement already satisfied: numpy>=1.15 in /usr/local/lib/python3.7/dist-packages (from yfinance) (1.19.5)\n",
            "Requirement already satisfied: requests>=2.20 in /usr/local/lib/python3.7/dist-packages (from yfinance) (2.23.0)\n",
            "Requirement already satisfied: multitasking>=0.0.7 in /usr/local/lib/python3.7/dist-packages (from yfinance) (0.0.9)\n",
            "Collecting lxml>=4.5.1\n",
            "\u001b[?25l  Downloading https://files.pythonhosted.org/packages/30/c0/d0526314971fc661b083ab135747dc68446a3022686da8c16d25fcf6ef07/lxml-4.6.3-cp37-cp37m-manylinux2014_x86_64.whl (6.3MB)\n",
            "\u001b[K     |████████████████████████████████| 6.3MB 4.4MB/s \n",
            "\u001b[?25hRequirement already satisfied: python-dateutil>=2.7.3 in /usr/local/lib/python3.7/dist-packages (from pandas>=0.24->yfinance) (2.8.1)\n",
            "Requirement already satisfied: pytz>=2017.2 in /usr/local/lib/python3.7/dist-packages (from pandas>=0.24->yfinance) (2018.9)\n",
            "Requirement already satisfied: urllib3!=1.25.0,!=1.25.1,<1.26,>=1.21.1 in /usr/local/lib/python3.7/dist-packages (from requests>=2.20->yfinance) (1.24.3)\n",
            "Requirement already satisfied: chardet<4,>=3.0.2 in /usr/local/lib/python3.7/dist-packages (from requests>=2.20->yfinance) (3.0.4)\n",
            "Requirement already satisfied: idna<3,>=2.5 in /usr/local/lib/python3.7/dist-packages (from requests>=2.20->yfinance) (2.10)\n",
            "Requirement already satisfied: certifi>=2017.4.17 in /usr/local/lib/python3.7/dist-packages (from requests>=2.20->yfinance) (2020.12.5)\n",
            "Requirement already satisfied: six>=1.5 in /usr/local/lib/python3.7/dist-packages (from python-dateutil>=2.7.3->pandas>=0.24->yfinance) (1.15.0)\n",
            "Building wheels for collected packages: yfinance\n",
            "  Building wheel for yfinance (setup.py) ... \u001b[?25l\u001b[?25hdone\n",
            "  Created wheel for yfinance: filename=yfinance-0.1.59-py2.py3-none-any.whl size=23455 sha256=590ec0450f91924f91b2ed1da34ac4d3b3927a97ae08f4f3cb853d1118260c10\n",
            "  Stored in directory: /root/.cache/pip/wheels/f8/2a/0f/4b5a86e1d52e451757eb6bc17fd899629f0925c777741b6d04\n",
            "Successfully built yfinance\n",
            "Installing collected packages: lxml, yfinance\n",
            "  Found existing installation: lxml 4.2.6\n",
            "    Uninstalling lxml-4.2.6:\n",
            "      Successfully uninstalled lxml-4.2.6\n",
            "Successfully installed lxml-4.6.3 yfinance-0.1.59\n"
          ],
          "name": "stdout"
        }
      ]
    },
    {
      "cell_type": "code",
      "metadata": {
        "colab": {
          "base_uri": "https://localhost:8080/"
        },
        "id": "XVOb_YoVIsiO",
        "outputId": "7cfb03ac-02d5-428a-fbbb-f6a8485a054d"
      },
      "source": [
        "!pip install yahoofinancials"
      ],
      "execution_count": 4,
      "outputs": [
        {
          "output_type": "stream",
          "text": [
            "Collecting yahoofinancials\n",
            "  Downloading https://files.pythonhosted.org/packages/97/fe/be0f6ea704137848779fc61e7d1c9a901489aaf3423cd7b6f86a350c14c6/yahoofinancials-1.6.tar.gz\n",
            "Requirement already satisfied: beautifulsoup4 in /usr/local/lib/python3.7/dist-packages (from yahoofinancials) (4.6.3)\n",
            "Requirement already satisfied: pytz in /usr/local/lib/python3.7/dist-packages (from yahoofinancials) (2018.9)\n",
            "Building wheels for collected packages: yahoofinancials\n",
            "  Building wheel for yahoofinancials (setup.py) ... \u001b[?25l\u001b[?25hdone\n",
            "  Created wheel for yahoofinancials: filename=yahoofinancials-1.6-cp37-none-any.whl size=15192 sha256=2ce857d8d05e90a13c74a3b0f07cb90d931f0835f528c8aeaff3e6c1e18f0efa\n",
            "  Stored in directory: /root/.cache/pip/wheels/d9/7e/cf/4977a8572d5247242a4b13018d1d36923024ba84236e0d28bc\n",
            "Successfully built yahoofinancials\n",
            "Installing collected packages: yahoofinancials\n",
            "Successfully installed yahoofinancials-1.6\n"
          ],
          "name": "stdout"
        }
      ]
    },
    {
      "cell_type": "code",
      "metadata": {
        "colab": {
          "base_uri": "https://localhost:8080/"
        },
        "id": "_ezymC3tMaD-",
        "outputId": "1fea2cd0-6b13-4431-82ed-c688c9c60f9a"
      },
      "source": [
        "!pip install requests beautifulsoup4"
      ],
      "execution_count": 5,
      "outputs": [
        {
          "output_type": "stream",
          "text": [
            "Requirement already satisfied: requests in /usr/local/lib/python3.7/dist-packages (2.23.0)\n",
            "Requirement already satisfied: beautifulsoup4 in /usr/local/lib/python3.7/dist-packages (4.6.3)\n",
            "Requirement already satisfied: certifi>=2017.4.17 in /usr/local/lib/python3.7/dist-packages (from requests) (2020.12.5)\n",
            "Requirement already satisfied: chardet<4,>=3.0.2 in /usr/local/lib/python3.7/dist-packages (from requests) (3.0.4)\n",
            "Requirement already satisfied: idna<3,>=2.5 in /usr/local/lib/python3.7/dist-packages (from requests) (2.10)\n",
            "Requirement already satisfied: urllib3!=1.25.0,!=1.25.1,<1.26,>=1.21.1 in /usr/local/lib/python3.7/dist-packages (from requests) (1.24.3)\n"
          ],
          "name": "stdout"
        }
      ]
    },
    {
      "cell_type": "code",
      "metadata": {
        "id": "UyajhUzHIYtL"
      },
      "source": [
        "import pandas as pd\n",
        "import yfinance as yf\n",
        "from yahoofinancials import YahooFinancials\n",
        "from bs4 import BeautifulSoup\n",
        "import requests"
      ],
      "execution_count": 6,
      "outputs": []
    },
    {
      "cell_type": "code",
      "metadata": {
        "id": "fG80SkK-R-fW"
      },
      "source": [
        "#Extract all tickers from wiki list of S&P 500 tickers\n",
        "url = 'https://en.wikipedia.org/wiki/List_of_S%26P_500_companies'\n",
        "html = requests.get(url).text\n",
        "soup = BeautifulSoup(html, 'lxml')\n",
        "table = soup.find_all('table')\n",
        "#The first table is the table of all tickers\n",
        "wiki_tckr = table[0]\n",
        "#establish empty table\n",
        "ticker_table = []\n",
        "#get all table rows\n",
        "rows = wiki_tckr.find_all('tr')\n",
        "#For loop through table rows and extract data to table\n",
        "for i in rows:\n",
        "    data = i.find_all_next('td')[0].text\n",
        "    data = data.replace('\\n','')\n",
        "    ticker_table.append(data)\n",
        "\n",
        "\n",
        "\n"
      ],
      "execution_count": 7,
      "outputs": []
    },
    {
      "cell_type": "code",
      "metadata": {
        "colab": {
          "base_uri": "https://localhost:8080/",
          "height": 279
        },
        "id": "NbyR_tsKJHee",
        "outputId": "8e3fd882-14d3-4726-ca53-ff72a9c1a124"
      },
      "source": [
        "daily_data = yf.download(ticker_table, start=\"2021-01-04\", end=\"2021-01-05\", rounding=2)\n",
        "Open = daily_data['Open']\n",
        "Close = daily_data['Close']\n",
        "difference = Open-Close\n",
        "percent_dif = ((Close - Open)/Open)*100\n",
        "\n",
        "df = pd.DataFrame(percent_dif)\n"
      ],
      "execution_count": 73,
      "outputs": [
        {
          "output_type": "stream",
          "text": [
            "[*********************100%***********************]  505 of 505 completed\n",
            "\n",
            "3 Failed downloads:\n",
            "- BRK.B: No data found, symbol may be delisted\n",
            "- OGN: Data doesn't exist for startDate = 1609718400, endDate = 1609804800\n",
            "- BF.B: No data found for this date range, symbol may be delisted\n"
          ],
          "name": "stdout"
        },
        {
          "output_type": "execute_result",
          "data": {
            "text/html": [
              "<div>\n",
              "<style scoped>\n",
              "    .dataframe tbody tr th:only-of-type {\n",
              "        vertical-align: middle;\n",
              "    }\n",
              "\n",
              "    .dataframe tbody tr th {\n",
              "        vertical-align: top;\n",
              "    }\n",
              "\n",
              "    .dataframe thead th {\n",
              "        text-align: right;\n",
              "    }\n",
              "</style>\n",
              "<table border=\"1\" class=\"dataframe\">\n",
              "  <thead>\n",
              "    <tr style=\"text-align: right;\">\n",
              "      <th></th>\n",
              "      <th>A</th>\n",
              "      <th>AAL</th>\n",
              "      <th>AAP</th>\n",
              "      <th>AAPL</th>\n",
              "      <th>ABBV</th>\n",
              "      <th>ABC</th>\n",
              "      <th>ABMD</th>\n",
              "      <th>ABT</th>\n",
              "      <th>ACN</th>\n",
              "      <th>ADBE</th>\n",
              "      <th>ADI</th>\n",
              "      <th>ADM</th>\n",
              "      <th>ADP</th>\n",
              "      <th>ADSK</th>\n",
              "      <th>AEE</th>\n",
              "      <th>AEP</th>\n",
              "      <th>AES</th>\n",
              "      <th>AFL</th>\n",
              "      <th>AIG</th>\n",
              "      <th>AIZ</th>\n",
              "      <th>AJG</th>\n",
              "      <th>AKAM</th>\n",
              "      <th>ALB</th>\n",
              "      <th>ALGN</th>\n",
              "      <th>ALK</th>\n",
              "      <th>ALL</th>\n",
              "      <th>ALLE</th>\n",
              "      <th>ALXN</th>\n",
              "      <th>AMAT</th>\n",
              "      <th>AMCR</th>\n",
              "      <th>AMD</th>\n",
              "      <th>AME</th>\n",
              "      <th>AMGN</th>\n",
              "      <th>AMP</th>\n",
              "      <th>AMT</th>\n",
              "      <th>AMZN</th>\n",
              "      <th>ANET</th>\n",
              "      <th>ANSS</th>\n",
              "      <th>ANTM</th>\n",
              "      <th>AON</th>\n",
              "      <th>...</th>\n",
              "      <th>V</th>\n",
              "      <th>VFC</th>\n",
              "      <th>VIAC</th>\n",
              "      <th>VLO</th>\n",
              "      <th>VMC</th>\n",
              "      <th>VNO</th>\n",
              "      <th>VRSK</th>\n",
              "      <th>VRSN</th>\n",
              "      <th>VRTX</th>\n",
              "      <th>VTR</th>\n",
              "      <th>VTRS</th>\n",
              "      <th>VZ</th>\n",
              "      <th>WAB</th>\n",
              "      <th>WAT</th>\n",
              "      <th>WBA</th>\n",
              "      <th>WDC</th>\n",
              "      <th>WEC</th>\n",
              "      <th>WELL</th>\n",
              "      <th>WFC</th>\n",
              "      <th>WHR</th>\n",
              "      <th>WLTW</th>\n",
              "      <th>WM</th>\n",
              "      <th>WMB</th>\n",
              "      <th>WMT</th>\n",
              "      <th>WRB</th>\n",
              "      <th>WRK</th>\n",
              "      <th>WST</th>\n",
              "      <th>WU</th>\n",
              "      <th>WY</th>\n",
              "      <th>WYNN</th>\n",
              "      <th>XEL</th>\n",
              "      <th>XLNX</th>\n",
              "      <th>XOM</th>\n",
              "      <th>XRAY</th>\n",
              "      <th>XYL</th>\n",
              "      <th>YUM</th>\n",
              "      <th>ZBH</th>\n",
              "      <th>ZBRA</th>\n",
              "      <th>ZION</th>\n",
              "      <th>ZTS</th>\n",
              "    </tr>\n",
              "    <tr>\n",
              "      <th>Date</th>\n",
              "      <th></th>\n",
              "      <th></th>\n",
              "      <th></th>\n",
              "      <th></th>\n",
              "      <th></th>\n",
              "      <th></th>\n",
              "      <th></th>\n",
              "      <th></th>\n",
              "      <th></th>\n",
              "      <th></th>\n",
              "      <th></th>\n",
              "      <th></th>\n",
              "      <th></th>\n",
              "      <th></th>\n",
              "      <th></th>\n",
              "      <th></th>\n",
              "      <th></th>\n",
              "      <th></th>\n",
              "      <th></th>\n",
              "      <th></th>\n",
              "      <th></th>\n",
              "      <th></th>\n",
              "      <th></th>\n",
              "      <th></th>\n",
              "      <th></th>\n",
              "      <th></th>\n",
              "      <th></th>\n",
              "      <th></th>\n",
              "      <th></th>\n",
              "      <th></th>\n",
              "      <th></th>\n",
              "      <th></th>\n",
              "      <th></th>\n",
              "      <th></th>\n",
              "      <th></th>\n",
              "      <th></th>\n",
              "      <th></th>\n",
              "      <th></th>\n",
              "      <th></th>\n",
              "      <th></th>\n",
              "      <th></th>\n",
              "      <th></th>\n",
              "      <th></th>\n",
              "      <th></th>\n",
              "      <th></th>\n",
              "      <th></th>\n",
              "      <th></th>\n",
              "      <th></th>\n",
              "      <th></th>\n",
              "      <th></th>\n",
              "      <th></th>\n",
              "      <th></th>\n",
              "      <th></th>\n",
              "      <th></th>\n",
              "      <th></th>\n",
              "      <th></th>\n",
              "      <th></th>\n",
              "      <th></th>\n",
              "      <th></th>\n",
              "      <th></th>\n",
              "      <th></th>\n",
              "      <th></th>\n",
              "      <th></th>\n",
              "      <th></th>\n",
              "      <th></th>\n",
              "      <th></th>\n",
              "      <th></th>\n",
              "      <th></th>\n",
              "      <th></th>\n",
              "      <th></th>\n",
              "      <th></th>\n",
              "      <th></th>\n",
              "      <th></th>\n",
              "      <th></th>\n",
              "      <th></th>\n",
              "      <th></th>\n",
              "      <th></th>\n",
              "      <th></th>\n",
              "      <th></th>\n",
              "      <th></th>\n",
              "      <th></th>\n",
              "    </tr>\n",
              "  </thead>\n",
              "  <tbody>\n",
              "    <tr>\n",
              "      <th>2021-01-04</th>\n",
              "      <td>-0.252228</td>\n",
              "      <td>-4.542587</td>\n",
              "      <td>-0.354655</td>\n",
              "      <td>-3.078191</td>\n",
              "      <td>-1.651428</td>\n",
              "      <td>-1.379663</td>\n",
              "      <td>-2.415504</td>\n",
              "      <td>-0.383457</td>\n",
              "      <td>-1.739464</td>\n",
              "      <td>-2.990206</td>\n",
              "      <td>-1.636915</td>\n",
              "      <td>-1.051587</td>\n",
              "      <td>-3.983634</td>\n",
              "      <td>-2.390582</td>\n",
              "      <td>-1.944874</td>\n",
              "      <td>-2.148086</td>\n",
              "      <td>-1.982286</td>\n",
              "      <td>-3.161435</td>\n",
              "      <td>-1.381142</td>\n",
              "      <td>-3.010058</td>\n",
              "      <td>-2.749919</td>\n",
              "      <td>0.066559</td>\n",
              "      <td>-0.176586</td>\n",
              "      <td>-4.212078</td>\n",
              "      <td>-5.616255</td>\n",
              "      <td>-1.656051</td>\n",
              "      <td>-1.66638</td>\n",
              "      <td>-0.507582</td>\n",
              "      <td>-0.424117</td>\n",
              "      <td>-2.735043</td>\n",
              "      <td>0.206275</td>\n",
              "      <td>-2.246078</td>\n",
              "      <td>-1.984865</td>\n",
              "      <td>-3.681516</td>\n",
              "      <td>-2.861945</td>\n",
              "      <td>-2.549541</td>\n",
              "      <td>-2.61384</td>\n",
              "      <td>-1.291569</td>\n",
              "      <td>-0.787892</td>\n",
              "      <td>-3.075246</td>\n",
              "      <td>...</td>\n",
              "      <td>-1.130533</td>\n",
              "      <td>-1.686302</td>\n",
              "      <td>-1.876676</td>\n",
              "      <td>-2.279502</td>\n",
              "      <td>-1.677515</td>\n",
              "      <td>-2.577731</td>\n",
              "      <td>-2.273603</td>\n",
              "      <td>-1.539738</td>\n",
              "      <td>-3.564373</td>\n",
              "      <td>-4.287464</td>\n",
              "      <td>-0.643087</td>\n",
              "      <td>-0.186567</td>\n",
              "      <td>-1.089176</td>\n",
              "      <td>1.115647</td>\n",
              "      <td>3.061987</td>\n",
              "      <td>-4.949955</td>\n",
              "      <td>-1.867535</td>\n",
              "      <td>-4.70297</td>\n",
              "      <td>-2.044855</td>\n",
              "      <td>-3.057869</td>\n",
              "      <td>-3.313081</td>\n",
              "      <td>-2.686441</td>\n",
              "      <td>-0.985222</td>\n",
              "      <td>1.545392</td>\n",
              "      <td>-2.360547</td>\n",
              "      <td>-2.615279</td>\n",
              "      <td>0.755037</td>\n",
              "      <td>-1.045455</td>\n",
              "      <td>-2.147331</td>\n",
              "      <td>-5.523641</td>\n",
              "      <td>-1.322513</td>\n",
              "      <td>0.140617</td>\n",
              "      <td>0.120627</td>\n",
              "      <td>0.429746</td>\n",
              "      <td>-2.293443</td>\n",
              "      <td>-2.935241</td>\n",
              "      <td>-1.612385</td>\n",
              "      <td>-1.975373</td>\n",
              "      <td>-0.348189</td>\n",
              "      <td>-1.451807</td>\n",
              "    </tr>\n",
              "  </tbody>\n",
              "</table>\n",
              "<p>1 rows × 505 columns</p>\n",
              "</div>"
            ],
            "text/plain": [
              "                   A       AAL       AAP  ...      ZBRA      ZION       ZTS\n",
              "Date                                      ...                              \n",
              "2021-01-04 -0.252228 -4.542587 -0.354655  ... -1.975373 -0.348189 -1.451807\n",
              "\n",
              "[1 rows x 505 columns]"
            ]
          },
          "metadata": {
            "tags": []
          },
          "execution_count": 73
        }
      ]
    },
    {
      "cell_type": "code",
      "metadata": {
        "colab": {
          "base_uri": "https://localhost:8080/",
          "height": 419
        },
        "id": "SOaaHu2hmooX",
        "outputId": "7008643b-46bd-4f6d-9c9c-1d4a08411fd0"
      },
      "source": [
        "#Transpose data to make it easier to work with\n",
        "df = df.transpose()\n",
        "df"
      ],
      "execution_count": 74,
      "outputs": [
        {
          "output_type": "execute_result",
          "data": {
            "text/html": [
              "<div>\n",
              "<style scoped>\n",
              "    .dataframe tbody tr th:only-of-type {\n",
              "        vertical-align: middle;\n",
              "    }\n",
              "\n",
              "    .dataframe tbody tr th {\n",
              "        vertical-align: top;\n",
              "    }\n",
              "\n",
              "    .dataframe thead th {\n",
              "        text-align: right;\n",
              "    }\n",
              "</style>\n",
              "<table border=\"1\" class=\"dataframe\">\n",
              "  <thead>\n",
              "    <tr style=\"text-align: right;\">\n",
              "      <th>Date</th>\n",
              "      <th>2021-01-04</th>\n",
              "    </tr>\n",
              "  </thead>\n",
              "  <tbody>\n",
              "    <tr>\n",
              "      <th>A</th>\n",
              "      <td>-0.252228</td>\n",
              "    </tr>\n",
              "    <tr>\n",
              "      <th>AAL</th>\n",
              "      <td>-4.542587</td>\n",
              "    </tr>\n",
              "    <tr>\n",
              "      <th>AAP</th>\n",
              "      <td>-0.354655</td>\n",
              "    </tr>\n",
              "    <tr>\n",
              "      <th>AAPL</th>\n",
              "      <td>-3.078191</td>\n",
              "    </tr>\n",
              "    <tr>\n",
              "      <th>ABBV</th>\n",
              "      <td>-1.651428</td>\n",
              "    </tr>\n",
              "    <tr>\n",
              "      <th>...</th>\n",
              "      <td>...</td>\n",
              "    </tr>\n",
              "    <tr>\n",
              "      <th>YUM</th>\n",
              "      <td>-2.935241</td>\n",
              "    </tr>\n",
              "    <tr>\n",
              "      <th>ZBH</th>\n",
              "      <td>-1.612385</td>\n",
              "    </tr>\n",
              "    <tr>\n",
              "      <th>ZBRA</th>\n",
              "      <td>-1.975373</td>\n",
              "    </tr>\n",
              "    <tr>\n",
              "      <th>ZION</th>\n",
              "      <td>-0.348189</td>\n",
              "    </tr>\n",
              "    <tr>\n",
              "      <th>ZTS</th>\n",
              "      <td>-1.451807</td>\n",
              "    </tr>\n",
              "  </tbody>\n",
              "</table>\n",
              "<p>505 rows × 1 columns</p>\n",
              "</div>"
            ],
            "text/plain": [
              "Date  2021-01-04\n",
              "A      -0.252228\n",
              "AAL    -4.542587\n",
              "AAP    -0.354655\n",
              "AAPL   -3.078191\n",
              "ABBV   -1.651428\n",
              "...          ...\n",
              "YUM    -2.935241\n",
              "ZBH    -1.612385\n",
              "ZBRA   -1.975373\n",
              "ZION   -0.348189\n",
              "ZTS    -1.451807\n",
              "\n",
              "[505 rows x 1 columns]"
            ]
          },
          "metadata": {
            "tags": []
          },
          "execution_count": 74
        }
      ]
    },
    {
      "cell_type": "code",
      "metadata": {
        "id": "bJCDEDIjfoQw"
      },
      "source": [
        "#sort table by percent drop\n",
        "Top_drop = df.sort_values(df.columns[0])\n",
        "#rename column to percent\n",
        "Top_drop.columns = ['Percent']\n"
      ],
      "execution_count": 84,
      "outputs": []
    },
    {
      "cell_type": "code",
      "metadata": {
        "colab": {
          "base_uri": "https://localhost:8080/",
          "height": 142
        },
        "id": "pE3wzlfzngXL",
        "outputId": "e781a647-d9f7-4c1e-d018-f5e414317abf"
      },
      "source": [
        "Top_tickers = Top_drop[Top_drop.Percent< -5.99]\n",
        "Top_tickers"
      ],
      "execution_count": 85,
      "outputs": [
        {
          "output_type": "execute_result",
          "data": {
            "text/html": [
              "<div>\n",
              "<style scoped>\n",
              "    .dataframe tbody tr th:only-of-type {\n",
              "        vertical-align: middle;\n",
              "    }\n",
              "\n",
              "    .dataframe tbody tr th {\n",
              "        vertical-align: top;\n",
              "    }\n",
              "\n",
              "    .dataframe thead th {\n",
              "        text-align: right;\n",
              "    }\n",
              "</style>\n",
              "<table border=\"1\" class=\"dataframe\">\n",
              "  <thead>\n",
              "    <tr style=\"text-align: right;\">\n",
              "      <th></th>\n",
              "      <th>Percent</th>\n",
              "    </tr>\n",
              "  </thead>\n",
              "  <tbody>\n",
              "    <tr>\n",
              "      <th>NCLH</th>\n",
              "      <td>-6.390533</td>\n",
              "    </tr>\n",
              "    <tr>\n",
              "      <th>MGM</th>\n",
              "      <td>-6.279583</td>\n",
              "    </tr>\n",
              "    <tr>\n",
              "      <th>CCL</th>\n",
              "      <td>-6.082949</td>\n",
              "    </tr>\n",
              "  </tbody>\n",
              "</table>\n",
              "</div>"
            ],
            "text/plain": [
              "       Percent\n",
              "NCLH -6.390533\n",
              "MGM  -6.279583\n",
              "CCL  -6.082949"
            ]
          },
          "metadata": {
            "tags": []
          },
          "execution_count": 85
        }
      ]
    },
    {
      "cell_type": "code",
      "metadata": {
        "id": "_J70xWoHcMRA"
      },
      "source": [
        "#Now take these tickers and see what the price was the next day"
      ],
      "execution_count": null,
      "outputs": []
    }
  ]
}